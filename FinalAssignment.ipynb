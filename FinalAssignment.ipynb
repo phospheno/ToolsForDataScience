{
 "cells": [
  {
   "cell_type": "markdown",
   "id": "81ab1b7a-e11c-4a7e-8044-8031d0a1fa6f",
   "metadata": {},
   "source": [
    "# Data Science Tools and Ecosystem"
   ]
  },
  {
   "cell_type": "markdown",
   "id": "d590d5c9-3af2-4c8b-91dc-5fe853003cab",
   "metadata": {},
   "source": [
    "## Author\n",
    "Hugo Cea"
   ]
  },
  {
   "cell_type": "markdown",
   "id": "4e455940-4d9d-41f5-95a2-bf93a30d9981",
   "metadata": {},
   "source": [
    "This is a notebook where Data Science Tools and Ecosystem are summarized"
   ]
  },
  {
   "cell_type": "markdown",
   "id": "b031b3a4-b454-454f-a0a2-796a4f0d9966",
   "metadata": {},
   "source": [
    "**Objectives**\n",
    "\n",
    "- Lenguajes Populares del Data Science\n",
    "- Librerías Populares\n",
    "- Herramientas Populares\n",
    "- Cálculos Aritméticos"
   ]
  },
  {
   "cell_type": "markdown",
   "id": "8ba35e21-b674-481c-8643-e641257289f3",
   "metadata": {},
   "source": [
    "Algunos de los lenguajes populares del Data Science son:\n",
    "1. Python\n",
    "2. R\n",
    "3. Javascript"
   ]
  },
  {
   "cell_type": "markdown",
   "id": "9075d348-34f7-407f-a4f9-5c66220e10de",
   "metadata": {},
   "source": [
    "Algunas de las librerías más utilizadas por los Científicos de Datos son:\n",
    "\n",
    "1. dplyr\n",
    "2. tidyr\n",
    "3. ggplot2"
   ]
  },
  {
   "cell_type": "markdown",
   "id": "15dd510b-d718-467b-89a2-7b923533cb65",
   "metadata": {},
   "source": [
    "| Data Science Tools |\n",
    "| :-: |\n",
    "| TensorFlow |\n",
    "| Jupyter Notebook |\n",
    "| Apache Spark |"
   ]
  },
  {
   "cell_type": "markdown",
   "id": "69cf26c8-a9d4-47ae-a181-b0d32410351f",
   "metadata": {},
   "source": [
    "### Below are a few examples of evaluating arithmetic expressions in Python"
   ]
  },
  {
   "cell_type": "code",
   "execution_count": 1,
   "id": "d69ffd9c-20da-47d4-8b60-9dd324aceb12",
   "metadata": {},
   "outputs": [
    {
     "data": {
      "text/plain": [
       "17"
      ]
     },
     "execution_count": 1,
     "metadata": {},
     "output_type": "execute_result"
    }
   ],
   "source": [
    "(3*4)+5"
   ]
  },
  {
   "cell_type": "markdown",
   "id": "93d105c1-a1ae-4fc7-8ec5-f8684628c80b",
   "metadata": {},
   "source": [
    "This will convert 200 minutes to hours by diving by 60"
   ]
  },
  {
   "cell_type": "code",
   "execution_count": 3,
   "id": "21a5a29e-531f-4e8b-ae30-a21642b65ef9",
   "metadata": {},
   "outputs": [
    {
     "data": {
      "text/plain": [
       "3"
      ]
     },
     "execution_count": 3,
     "metadata": {},
     "output_type": "execute_result"
    }
   ],
   "source": [
    "200 // 60"
   ]
  },
  {
   "cell_type": "code",
   "execution_count": null,
   "id": "7a520a65-6cf2-448e-815f-0ba8226e2146",
   "metadata": {},
   "outputs": [],
   "source": []
  }
 ],
 "metadata": {
  "kernelspec": {
   "display_name": "Python 3 (ipykernel)",
   "language": "python",
   "name": "python3"
  },
  "language_info": {
   "codemirror_mode": {
    "name": "ipython",
    "version": 3
   },
   "file_extension": ".py",
   "mimetype": "text/x-python",
   "name": "python",
   "nbconvert_exporter": "python",
   "pygments_lexer": "ipython3",
   "version": "3.11.8"
  }
 },
 "nbformat": 4,
 "nbformat_minor": 5
}

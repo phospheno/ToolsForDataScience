{
 "cells": [
  {
   "cell_type": "markdown",
   "id": "81ab1b7a-e11c-4a7e-8044-8031d0a1fa6f",
   "metadata": {},
   "source": [
    "# Data Science Tools and Ecosystem"
   ]
  },
  {
   "cell_type": "markdown",
   "id": "d590d5c9-3af2-4c8b-91dc-5fe853003cab",
   "metadata": {},
   "source": [
    "## Author\n",
    "Hugo Cea"
   ]
  },
  {
   "cell_type": "markdown",
   "id": "4e455940-4d9d-41f5-95a2-bf93a30d9981",
   "metadata": {},
   "source": [
    "This is a notebook where Data Science Tools and Ecosystem are summarized"
   ]
  },
  {
   "cell_type": "markdown",
   "id": "b031b3a4-b454-454f-a0a2-796a4f0d9966",
   "metadata": {},
   "source": [
    "**Objectives**\n",
    "\n",
    "- Add ordered and unordered lists\n",
    "- Adding comment to cells\n",
    "- Format content\n",
    "- Create markdown cells\n",
    "- Create tables"
   ]
  },
  {
   "cell_type": "markdown",
   "id": "8ba35e21-b674-481c-8643-e641257289f3",
   "metadata": {},
   "source": [
    "Some of the popular languages that Data Scientist use are:\n",
    "1. Python\n",
    "2. R\n",
    "3. Javascript"
   ]
  },
  {
   "cell_type": "markdown",
   "id": "9075d348-34f7-407f-a4f9-5c66220e10de",
   "metadata": {},
   "source": [
    "Some of the commonly used libraries used by Data Scientist include:\n",
    "\n",
    "1. Pandas\n",
    "2. Numpy\n",
    "3. Vegas\n",
    "4. Big DL\n",
    "5. Ggplot2"
   ]
  },
  {
   "cell_type": "markdown",
   "id": "15dd510b-d718-467b-89a2-7b923533cb65",
   "metadata": {},
   "source": [
    "| Data Science Tools |\n",
    "| :-: |\n",
    "| TensorFlow |\n",
    "| Jupyter Notebook |\n",
    "| Apache Spark |"
   ]
  },
  {
   "cell_type": "markdown",
   "id": "69cf26c8-a9d4-47ae-a181-b0d32410351f",
   "metadata": {},
   "source": [
    "### Below are a few examples of evaluating arithmetic expressions in Python"
   ]
  },
  {
   "cell_type": "code",
   "execution_count": 6,
   "id": "d69ffd9c-20da-47d4-8b60-9dd324aceb12",
   "metadata": {},
   "outputs": [
    {
     "data": {
      "text/plain": [
       "17"
      ]
     },
     "execution_count": 6,
     "metadata": {},
     "output_type": "execute_result"
    }
   ],
   "source": [
    "#This is a simple arithmetic expression to multiply then add integers\n",
    "(3*4)+5"
   ]
  },
  {
   "cell_type": "code",
   "execution_count": 5,
   "id": "21a5a29e-531f-4e8b-ae30-a21642b65ef9",
   "metadata": {},
   "outputs": [
    {
     "data": {
      "text/plain": [
       "3.3333333333333335"
      ]
     },
     "execution_count": 5,
     "metadata": {},
     "output_type": "execute_result"
    }
   ],
   "source": [
    "# This will convert 200 minutes to hours by dividing by 60\n",
    "200 / 60"
   ]
  }
 ],
 "metadata": {
  "kernelspec": {
   "display_name": "Python 3 (ipykernel)",
   "language": "python",
   "name": "python3"
  },
  "language_info": {
   "codemirror_mode": {
    "name": "ipython",
    "version": 3
   },
   "file_extension": ".py",
   "mimetype": "text/x-python",
   "name": "python",
   "nbconvert_exporter": "python",
   "pygments_lexer": "ipython3",
   "version": "3.11.8"
  }
 },
 "nbformat": 4,
 "nbformat_minor": 5
}
